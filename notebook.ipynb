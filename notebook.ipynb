{
 "cells": [
  {
   "cell_type": "code",
   "execution_count": 1,
   "metadata": {},
   "outputs": [
    {
     "name": "stdout",
     "output_type": "stream",
     "text": [
      "<super: <class 'DistributedDcrGraph'>, <ExtendedDcrGraph object>>events: {'B', 'D', 'F', 'E', 'A', 'C'}\n",
      "marking: {executed: set(), included: {'B', 'D', 'F', 'E', 'A', 'C'}, pending: set()}\n",
      "labels: {'B', 'D', 'F', 'E', 'A', 'C'}\n",
      "conditionsFor: {}\n",
      "responseTo: {'D': {'F', 'E', 'B'}, 'E': {'C'}, 'B': {'C'}}\n",
      "includesTo: {}\n",
      "excludesTo: {}\n",
      "labelMap: {'A': 'A', 'B': 'B', 'C': 'C', 'D': 'D', 'E': 'E', 'F': 'F'}\n",
      "principals: set()\n",
      "roles: set()\n",
      "roleAssignments: {}\n",
      "principalsAssignments: {}\n",
      "milestonesFor: {}\n",
      "noResponseTo: {}\n",
      "superActivities: {'A': {'E', 'B'}}\n",
      "\n"
     ]
    }
   ],
   "source": [
    "# Rule 1\n",
    "from pm4py.objects.dcr.extended.semantics import ExtendedSemantics\n",
    "from pm4py.objects.dcr.extended.obj import ExtendedDcrGraph\n",
    "from pm4py.objects.dcr.obj import DcrGraph\n",
    "\n",
    "testGraph = ExtendedDcrGraph()\n",
    "\n",
    "events = [\n",
    "    \"A\", \"B\", \"C\", \"D\",\"E\",\"F\"\n",
    "]\n",
    "\n",
    "testGraph.superActivities = {\"A\": {\"B\",\"E\"}}\n",
    "# Condition from C to A\n",
    "testGraph.responses = {\"A\" : {\"C\"}, \"D\" : {\"A\",\"F\"}}\n",
    "\n",
    "for event in events:\n",
    "    testGraph.events.add(event)\n",
    "    testGraph.labels.add(event)\n",
    "    testGraph.label_map[event] = event\n",
    "\n",
    "for event in testGraph.events:\n",
    "        testGraph.marking.included.add(event)\n",
    "    \n",
    "print(testGraph)"
   ]
  },
  {
   "cell_type": "code",
   "execution_count": 2,
   "metadata": {},
   "outputs": [
    {
     "ename": "SyntaxError",
     "evalue": "invalid character '½' (U+00BD) (1421880245.py, line 1)",
     "output_type": "error",
     "traceback": [
      "\u001b[0;36m  Cell \u001b[0;32mIn[2], line 1\u001b[0;36m\u001b[0m\n\u001b[0;31m    ½\u001b[0m\n\u001b[0m    ^\u001b[0m\n\u001b[0;31mSyntaxError\u001b[0m\u001b[0;31m:\u001b[0m invalid character '½' (U+00BD)\n"
     ]
    }
   ],
   "source": [
    "½"
   ]
  },
  {
   "cell_type": "code",
   "execution_count": null,
   "metadata": {},
   "outputs": [],
   "source": []
  },
  {
   "cell_type": "code",
   "execution_count": null,
   "metadata": {},
   "outputs": [],
   "source": []
  }
 ],
 "metadata": {
  "kernelspec": {
   "display_name": "Python 3",
   "language": "python",
   "name": "python3"
  },
  "language_info": {
   "codemirror_mode": {
    "name": "ipython",
    "version": 3
   },
   "file_extension": ".py",
   "mimetype": "text/x-python",
   "name": "python",
   "nbconvert_exporter": "python",
   "pygments_lexer": "ipython3",
   "version": "3.12.1"
  }
 },
 "nbformat": 4,
 "nbformat_minor": 2
}
